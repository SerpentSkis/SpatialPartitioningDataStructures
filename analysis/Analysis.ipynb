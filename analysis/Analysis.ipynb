{
 "cells": [
  {
   "cell_type": "markdown",
   "source": [
    "#  Analysis\n",
    "Analyze the data you collected."
   ],
   "metadata": {
    "collapsed": false
   }
  },
  {
   "cell_type": "code",
   "execution_count": null,
   "outputs": [],
   "source": [
    "# imports and setup\n",
    "import seaborn\n",
    "\n",
    "import scipy as sc\n",
    "import numpy as np\n",
    "\n",
    "import pandas as pd\n",
    "import statsmodels.formula.api as sm\n",
    "from sklearn import linear_model\n",
    "\n",
    "import matplotlib.pyplot as plt\n",
    "%matplotlib inline\n",
    "plt.rcParams['figure.figsize'] = (10, 6)\n",
    "\n",
    "from mpl_toolkits.mplot3d import Axes3D\n",
    "from matplotlib import cm"
   ],
   "metadata": {
    "collapsed": false,
    "pycharm": {
     "name": "#%%\n"
    }
   }
  },
  {
   "cell_type": "markdown",
   "source": [
    "# DumbKNN change in K"
   ],
   "metadata": {
    "collapsed": false
   }
  },
  {
   "cell_type": "code",
   "execution_count": null,
   "outputs": [],
   "source": [
    "kDumbKNNData = pd.read_csv('KDumbKNN.csv', index_col=0) #load data\n",
    "kDumbKNNData = kDumbKNNData.transpose()\n",
    "dataFrameKDumbKNNData = pd.DataFrame(data = kDumbKNNData, columns=['Time', 'K'])\n",
    "dataFrameKDumbKNNData"
   ],
   "metadata": {
    "collapsed": false,
    "pycharm": {
     "name": "#%%\n"
    }
   }
  },
  {
   "cell_type": "markdown",
   "source": [
    "The data are averaged over 10 iterations to reduce noise, Dim = 10. 10000 gausian training points, 100 uniform testing points."
   ],
   "metadata": {
    "collapsed": false
   }
  },
  {
   "cell_type": "code",
   "execution_count": null,
   "outputs": [],
   "source": [
    "dumbKScatterPlot = seaborn.scatterplot(data = dataFrameKDumbKNNData, x = 'K', y = 'Time')\n",
    "dumbKScatterPlot.set(title='DumbKNN over k')"
   ],
   "metadata": {
    "collapsed": false,
    "pycharm": {
     "name": "#%%\n"
    }
   }
  },
  {
   "cell_type": "code",
   "execution_count": null,
   "outputs": [],
   "source": [
    "pretty linear (with noise), this makes sense. In general the change in K should be pretty linear."
   ],
   "metadata": {
    "collapsed": false,
    "pycharm": {
     "name": "#%%\n"
    }
   }
  },
  {
   "cell_type": "code",
   "execution_count": null,
   "outputs": [],
   "source": [
    "result = sm.ols(formula=\"Time ~ K\", data=dataFrameKDumbKNNData).fit()\n",
    "result.summary()"
   ],
   "metadata": {
    "collapsed": false,
    "pycharm": {
     "name": "#%%\n"
    }
   }
  },
  {
   "cell_type": "markdown",
   "source": [
    "# DumbKNN Change in number of data points"
   ],
   "metadata": {
    "collapsed": false
   }
  },
  {
   "cell_type": "code",
   "execution_count": null,
   "outputs": [],
   "source": [
    "nDumbKNNData = pd.read_csv('nDumbKNN.csv', index_col=0)\n",
    "nDumbKNNData = nDumbKNNData.transpose()\n",
    "dataFrameNDumbKNNData = pd.DataFrame(data = nDumbKNNData, columns=['Time', 'N'])\n",
    "dataFrameNDumbKNNData"
   ],
   "metadata": {
    "collapsed": false,
    "pycharm": {
     "name": "#%%\n"
    }
   }
  },
  {
   "cell_type": "markdown",
   "source": [
    "The data are averaged over 10 iterations to reduce noise. K = 10, Dim = 10. 10000 gausian training points, 100 uniform testing points."
   ],
   "metadata": {
    "collapsed": false
   }
  },
  {
   "cell_type": "code",
   "execution_count": null,
   "outputs": [],
   "source": [
    "dumbNScatterPlot = seaborn.scatterplot(data = dataFrameNDumbKNNData, x = 'N', y = 'Time')\n",
    "dumbNScatterPlot.set(title='DumbKNN over N')"
   ],
   "metadata": {
    "collapsed": false,
    "pycharm": {
     "name": "#%%\n"
    }
   }
  },
  {
   "cell_type": "code",
   "execution_count": null,
   "outputs": [],
   "source": [
    "Amazing Linear, this makes sense"
   ],
   "metadata": {
    "collapsed": false,
    "pycharm": {
     "name": "#%%\n"
    }
   }
  },
  {
   "cell_type": "code",
   "execution_count": null,
   "outputs": [],
   "source": [
    "result = sm.ols(formula=\"Time ~ N\", data=dataFrameNDumbKNNData).fit()\n",
    "result.summary()"
   ],
   "metadata": {
    "collapsed": false,
    "pycharm": {
     "name": "#%%\n"
    }
   }
  },
  {
   "cell_type": "markdown",
   "source": [
    "# DumbKNN Change in dimension"
   ],
   "metadata": {
    "collapsed": false
   }
  },
  {
   "cell_type": "code",
   "execution_count": null,
   "outputs": [],
   "source": [
    "dimensionDumbKNNData = pd.read_csv('DimensionDumbKNN.csv', index_col=0) #load data\n",
    "dimensionDumbKNNData = dimensionDumbKNNData.transpose()\n",
    "dataFramedimensionDumbKNNData = pd.DataFrame(data = dimensionDumbKNNData, columns=['Time', 'Dimension'])\n",
    "dataFramedimensionDumbKNNData"
   ],
   "metadata": {
    "collapsed": false,
    "pycharm": {
     "name": "#%%\n"
    }
   }
  },
  {
   "cell_type": "markdown",
   "source": [
    "The data are averaged over 10 iterations to reduce noise. K = 10. 10000 gausian training points, 100 uniform testing points."
   ],
   "metadata": {
    "collapsed": false
   }
  },
  {
   "cell_type": "code",
   "execution_count": null,
   "outputs": [],
   "source": [
    "dumbDimScatterPlot = seaborn.scatterplot(data = dataFramedimensionDumbKNNData, x = 'Dimension', y = 'Time')\n",
    "dumbDimScatterPlot.set(title='DumbKNN over Dimension')"
   ],
   "metadata": {
    "collapsed": false,
    "pycharm": {
     "name": "#%%\n"
    }
   }
  },
  {
   "cell_type": "code",
   "execution_count": null,
   "outputs": [],
   "source": [
    "It is linear, but for some reason from Dimension 16 onwards it gets weird."
   ],
   "metadata": {
    "collapsed": false,
    "pycharm": {
     "name": "#%%\n"
    }
   }
  },
  {
   "cell_type": "code",
   "execution_count": null,
   "outputs": [],
   "source": [
    "result = sm.ols(formula=\"Time ~ Dimension\", data=dataFramedimensionDumbKNNData).fit()\n",
    "result.summary()"
   ],
   "metadata": {
    "collapsed": false,
    "pycharm": {
     "name": "#%%\n"
    }
   }
  },
  {
   "cell_type": "markdown",
   "source": [
    "# BucketKNN change in K"
   ],
   "metadata": {
    "collapsed": false
   }
  },
  {
   "cell_type": "code",
   "execution_count": null,
   "outputs": [],
   "source": [
    "kBucketKNNData = pd.read_csv('KBucketKNN.csv', index_col=0) #load data\n",
    "kBucketKNNData = kBucketKNNData.transpose()\n",
    "dataFrameKBucketKNN = pd.DataFrame(data = kBucketKNNData, columns=['Time', 'K'])\n",
    "dataFrameKBucketKNN"
   ],
   "metadata": {
    "collapsed": false,
    "pycharm": {
     "name": "#%%\n"
    }
   }
  },
  {
   "cell_type": "markdown",
   "source": [
    "The data are averaged over 10 iterations to reduce noise. K = 10, Dim = 8. 10,000 gausian training points, 100 uniform testing points."
   ],
   "metadata": {
    "collapsed": false
   }
  },
  {
   "cell_type": "code",
   "execution_count": null,
   "outputs": [],
   "source": [
    "bucketKScatterPlot = seaborn.scatterplot(data = dataFrameKBucketKNN, x = 'K', y = 'Time')\n",
    "bucketKScatterPlot.set(title='BucketKNN over k')"
   ],
   "metadata": {
    "collapsed": false,
    "pycharm": {
     "name": "#%%\n"
    }
   }
  },
  {
   "cell_type": "code",
   "execution_count": null,
   "outputs": [],
   "source": [
    "somewhat linear with weird bumps. "
   ],
   "metadata": {
    "collapsed": false,
    "pycharm": {
     "name": "#%%\n"
    }
   }
  },
  {
   "cell_type": "code",
   "execution_count": null,
   "outputs": [],
   "source": [
    "result = sm.ols(formula=\"Time ~ K\", data=dataFrameKBucketKNN).fit()\n",
    "result.summary()"
   ],
   "metadata": {
    "collapsed": false,
    "pycharm": {
     "name": "#%%\n"
    }
   }
  },
  {
   "cell_type": "markdown",
   "source": [
    "# BucketKNN Change in number of data points"
   ],
   "metadata": {
    "collapsed": false
   }
  },
  {
   "cell_type": "code",
   "execution_count": null,
   "outputs": [],
   "source": [
    "nBucketKNNData = pd.read_csv('nBucketKNN.csv', index_col=0) #load data\n",
    "nBucketKNNData = nBucketKNNData.transpose()\n",
    "dataFrameNBucketKNN = pd.DataFrame(data = nBucketKNNData, columns=['Time', 'N'])\n",
    "dataFrameNBucketKNN"
   ],
   "metadata": {
    "collapsed": false,
    "pycharm": {
     "name": "#%%\n"
    }
   }
  },
  {
   "cell_type": "markdown",
   "source": [
    "The data are averaged over 10 iterations to reduce noise. K = 10, Dim = 4.  gausian training points increment by 1000, 100 uniform testing points."
   ],
   "metadata": {
    "collapsed": false
   }
  },
  {
   "cell_type": "code",
   "execution_count": null,
   "outputs": [],
   "source": [
    "buccketNScatterPlot = seaborn.scatterplot(data = dataFrameNBucketKNN, x = 'N', y = 'Time')\n",
    "buccketNScatterPlot.set(title='BucketKNN over N')"
   ],
   "metadata": {
    "collapsed": false,
    "pycharm": {
     "name": "#%%\n"
    }
   }
  },
  {
   "cell_type": "code",
   "execution_count": null,
   "outputs": [],
   "source": [
    "Very linear. after around 35k it gets weird but still follows the general trend. This makes sense."
   ],
   "metadata": {
    "collapsed": false,
    "pycharm": {
     "name": "#%%\n"
    }
   }
  },
  {
   "cell_type": "code",
   "execution_count": null,
   "outputs": [],
   "source": [
    "result = sm.ols(formula=\"Time ~ N\", data=dataFrameNBucketKNN).fit()\n",
    "result.summary()"
   ],
   "metadata": {
    "collapsed": false,
    "pycharm": {
     "name": "#%%\n"
    }
   }
  },
  {
   "cell_type": "markdown",
   "source": [
    "# BucketKNN Change in dimension"
   ],
   "metadata": {
    "collapsed": false
   }
  },
  {
   "cell_type": "code",
   "execution_count": null,
   "outputs": [],
   "source": [
    "dimensionBucketKNNData = pd.read_csv('DimensionBucketKNN.csv', index_col=0) #load data\n",
    "dimensionBucketKNNData = dimensionBucketKNNData.transpose()\n",
    "dataFramedimensionBucketKNN = pd.DataFrame(data = dimensionBucketKNNData, columns=['Time', 'Dimension'])\n",
    "dataFramedimensionBucketKNN"
   ],
   "metadata": {
    "collapsed": false,
    "pycharm": {
     "name": "#%%\n"
    }
   }
  },
  {
   "cell_type": "markdown",
   "source": [
    "The data are averaged over 10 iterations to reduce noise. K = 10. 10000 gausian training points, 100 uniform testing points."
   ],
   "metadata": {
    "collapsed": false
   }
  },
  {
   "cell_type": "code",
   "execution_count": null,
   "outputs": [],
   "source": [
    "bucketDimScatterPlot = seaborn.scatterplot(data = dataFramedimensionBucketKNN, x = 'Dimension', y = 'Time')\n",
    "bucketDimScatterPlot.set(title='BucketKNN over Dimension')"
   ],
   "metadata": {
    "collapsed": false,
    "pycharm": {
     "name": "#%%\n"
    }
   }
  },
  {
   "cell_type": "code",
   "execution_count": null,
   "outputs": [],
   "source": [
    "seems linear for low dim, but it scales up fast near dim = 14+ which suggests exponencial which makes sense. It gets impossibly slow really fast. I couldn't get more data than this in any resonable amount of time."
   ],
   "metadata": {
    "collapsed": false,
    "pycharm": {
     "name": "#%%\n"
    }
   }
  },
  {
   "cell_type": "code",
   "execution_count": null,
   "outputs": [],
   "source": [
    "result = sm.ols(formula=\"Time ~ Dimension\", data=dataFramedimensionBucketKNN).fit()\n",
    "result.summary()"
   ],
   "metadata": {
    "collapsed": false,
    "pycharm": {
     "name": "#%%\n"
    }
   }
  },
  {
   "cell_type": "markdown",
   "source": [
    "# QuadTree change in K"
   ],
   "metadata": {
    "collapsed": false
   }
  },
  {
   "cell_type": "code",
   "execution_count": null,
   "outputs": [],
   "source": [
    "kQuadTreeKNNData = pd.read_csv('KQuadTreeKNN.csv', index_col=0) #load data\n",
    "kQuadTreeKNNData = kQuadTreeKNNData.transpose()\n",
    "dataFrameKQuadTreeKNNData = pd.DataFrame(data = kQuadTreeKNNData, columns=['Time', 'K'])\n",
    "dataFrameKQuadTreeKNNData"
   ],
   "metadata": {
    "collapsed": false,
    "pycharm": {
     "name": "#%%\n"
    }
   }
  },
  {
   "cell_type": "code",
   "execution_count": null,
   "outputs": [],
   "source": [
    "kQuadTreeScatterPlot = seaborn.scatterplot(data = dataFrameKQuadTreeKNNData, x = 'K', y = 'Time')\n",
    "kQuadTreeScatterPlot.set(title='QuadTree over K')"
   ],
   "metadata": {
    "collapsed": false,
    "pycharm": {
     "name": "#%%\n"
    }
   }
  },
  {
   "cell_type": "markdown",
   "source": [
    "This seems to be pretty linear, which makes sense."
   ],
   "metadata": {
    "collapsed": false
   }
  },
  {
   "cell_type": "code",
   "execution_count": null,
   "outputs": [],
   "source": [
    "result = sm.ols(formula=\"Time ~ K\", data=dataFrameKQuadTreeKNNData).fit()\n",
    "result.summary()"
   ],
   "metadata": {
    "collapsed": false,
    "pycharm": {
     "name": "#%%\n"
    }
   }
  },
  {
   "cell_type": "markdown",
   "source": [
    "# Quad Tree change in N"
   ],
   "metadata": {
    "collapsed": false
   }
  },
  {
   "cell_type": "code",
   "execution_count": null,
   "outputs": [],
   "source": [
    "nQuadTreeKNNData = pd.read_csv('nQuadTreeKNN.csv', index_col=0) #load data\n",
    "nQuadTreeKNNData = nQuadTreeKNNData.transpose()\n",
    "dataFrameNQuadTreeKNNData = pd.DataFrame(data = nQuadTreeKNNData, columns=['Time', 'N'])\n",
    "dataFrameNQuadTreeKNNData"
   ],
   "metadata": {
    "collapsed": false,
    "pycharm": {
     "name": "#%%\n"
    }
   }
  },
  {
   "cell_type": "code",
   "execution_count": null,
   "outputs": [],
   "source": [
    "nQuadTreeScatterPlot = seaborn.scatterplot(data = dataFrameNQuadTreeKNNData, x = 'N', y = 'Time')\n",
    "nQuadTreeScatterPlot.set(title='QuadTree over total number of data points')"
   ],
   "metadata": {
    "collapsed": false,
    "pycharm": {
     "name": "#%%\n"
    }
   }
  },
  {
   "cell_type": "markdown",
   "source": [
    "seems like it may have a log trend, but mostly linear. You would expect to see a log trend. With more data it would show up better."
   ],
   "metadata": {
    "collapsed": false
   }
  },
  {
   "cell_type": "code",
   "execution_count": null,
   "outputs": [],
   "source": [
    "result = sm.ols(formula=\"Time ~ N\", data=dataFrameNQuadTreeKNNData).fit()\n",
    "result.summary()"
   ],
   "metadata": {
    "collapsed": false,
    "pycharm": {
     "name": "#%%\n"
    }
   }
  },
  {
   "cell_type": "markdown",
   "source": [
    "# KDTree change in K "
   ],
   "metadata": {
    "collapsed": false
   }
  },
  {
   "cell_type": "code",
   "execution_count": null,
   "outputs": [],
   "source": [
    "kKDTreeData = pd.read_csv('KKDTreeKNN.csv', index_col=0) #load data\n",
    "kKDTreeData = kKDTreeData.transpose()\n",
    "dataFrameKKDTreeData = pd.DataFrame(data = kKDTreeData, columns=['Time', 'K'])\n",
    "dataFrameKKDTreeData"
   ],
   "metadata": {
    "collapsed": false,
    "pycharm": {
     "name": "#%%\n"
    }
   }
  },
  {
   "cell_type": "markdown",
   "source": [
    "The data are averaged over 10 iterations to reduce noise. K = 10. 10000 gausian training points, 100 uniform testing points."
   ],
   "metadata": {
    "collapsed": false
   }
  },
  {
   "cell_type": "code",
   "execution_count": null,
   "outputs": [],
   "source": [
    "kKDTreeScatterPlot = seaborn.scatterplot(data = dataFrameKKDTreeData, x = 'K', y = 'Time')\n",
    "kKDTreeScatterPlot.set(title='KDTree over k')"
   ],
   "metadata": {
    "collapsed": false,
    "pycharm": {
     "name": "#%%\n"
    }
   }
  },
  {
   "cell_type": "markdown",
   "source": [
    "Pretty linear, with a bit of a log shape to it. "
   ],
   "metadata": {
    "collapsed": false
   }
  },
  {
   "cell_type": "code",
   "execution_count": null,
   "outputs": [],
   "source": [
    "result = sm.ols(formula=\"Time ~ K\", data=dataFrameKKDTreeData).fit()\n",
    "result.summary()"
   ],
   "metadata": {
    "collapsed": false,
    "pycharm": {
     "name": "#%%\n"
    }
   }
  },
  {
   "cell_type": "markdown",
   "source": [
    "# KDTree Change in number of data points"
   ],
   "metadata": {
    "collapsed": false
   }
  },
  {
   "cell_type": "code",
   "execution_count": null,
   "outputs": [],
   "source": [
    "nKDTreeKNNData = pd.read_csv('nKDTreeKNN.csv', index_col=0) #load data\n",
    "nKDTreeKNNData = nKDTreeKNNData.transpose()\n",
    "dataFrameNKDTree = pd.DataFrame(data = nKDTreeKNNData, columns=['Time', 'N'])\n",
    "dataFrameNKDTree"
   ],
   "metadata": {
    "collapsed": false,
    "pycharm": {
     "name": "#%%\n"
    }
   }
  },
  {
   "cell_type": "markdown",
   "source": [
    "The data are averaged over 10 iterations to reduce noise. K = 10. 10000 gausian training points, 100 uniform testing points."
   ],
   "metadata": {
    "collapsed": false
   }
  },
  {
   "cell_type": "code",
   "execution_count": null,
   "outputs": [],
   "source": [
    "NKDTreeScatterPlot = seaborn.scatterplot(data = dataFrameNKDTree, x = 'N', y = 'Time')\n",
    "NKDTreeScatterPlot.set(title='KDTree over N')"
   ],
   "metadata": {
    "collapsed": false,
    "pycharm": {
     "name": "#%%\n"
    }
   }
  },
  {
   "cell_type": "code",
   "execution_count": null,
   "outputs": [],
   "source": [
    "Very linear. It has a slight uptick near the end which supports the idea that it is n log(n). It gets a little noisy for higher N. You would expect n log(n), this might show up better with more data"
   ],
   "metadata": {
    "collapsed": false,
    "pycharm": {
     "name": "#%%\n"
    }
   }
  },
  {
   "cell_type": "code",
   "execution_count": null,
   "outputs": [],
   "source": [
    "result = sm.ols(formula=\"Time ~ N\", data=dataFrameNKDTree).fit()\n",
    "result.summary()"
   ],
   "metadata": {
    "collapsed": false,
    "pycharm": {
     "name": "#%%\n"
    }
   }
  },
  {
   "cell_type": "markdown",
   "source": [
    "Its not a linear relationship so this ols doesnt really work. Just look at the graph."
   ],
   "metadata": {
    "collapsed": false
   }
  },
  {
   "cell_type": "markdown",
   "source": [
    " "
   ],
   "metadata": {
    "collapsed": false
   }
  },
  {
   "cell_type": "markdown",
   "source": [
    "# KDTree Change in dimension"
   ],
   "metadata": {
    "collapsed": false
   }
  },
  {
   "cell_type": "code",
   "execution_count": null,
   "outputs": [],
   "source": [
    "dimensionKDTreeData = pd.read_csv('DimensionKDTreeKNN.csv', index_col=0) #load data\n",
    "dimensionKDTreeData = dimensionKDTreeData.transpose()\n",
    "dataFrameDimensionKDTreeData = pd.DataFrame(data = dimensionKDTreeData, columns=['Time', 'Dimension'])\n",
    "dataFrameDimensionKDTreeData"
   ],
   "metadata": {
    "collapsed": false,
    "pycharm": {
     "name": "#%%\n"
    }
   }
  },
  {
   "cell_type": "markdown",
   "source": [
    "The data are averaged over 10 iterations to reduce noise. K = 10. 10000 gausian training points, 100 uniform testing points."
   ],
   "metadata": {
    "collapsed": false
   }
  },
  {
   "cell_type": "code",
   "execution_count": null,
   "outputs": [],
   "source": [
    "kdTreeDimScatterPlot = seaborn.scatterplot(data = dimensionKDTreeData, x = 'Dimension', y = 'Time')\n",
    "kdTreeDimScatterPlot.set(title='KDTreeKNN over Dimension')"
   ],
   "metadata": {
    "collapsed": false,
    "pycharm": {
     "name": "#%%\n"
    }
   }
  },
  {
   "cell_type": "code",
   "execution_count": null,
   "outputs": [],
   "source": [
    "somewhat linear, with some wildness. After dimension 22 it gets weird."
   ],
   "metadata": {
    "collapsed": false,
    "pycharm": {
     "name": "#%%\n"
    }
   }
  },
  {
   "cell_type": "code",
   "execution_count": null,
   "outputs": [],
   "source": [
    "result = sm.ols(formula=\"Time ~ Dimension\", data=dimensionKDTreeData).fit()\n",
    "result.summary()"
   ],
   "metadata": {
    "collapsed": false,
    "pycharm": {
     "name": "#%%\n"
    }
   }
  }
 ],
 "metadata": {
  "kernelspec": {
   "display_name": "Python 3",
   "language": "python",
   "name": "python3"
  },
  "language_info": {
   "codemirror_mode": {
    "name": "ipython",
    "version": 3
   },
   "file_extension": ".py",
   "mimetype": "text/x-python",
   "name": "python",
   "nbconvert_exporter": "python",
   "pygments_lexer": "ipython3",
   "version": "3.7.6"
  }
 },
 "nbformat": 4,
 "nbformat_minor": 1
}